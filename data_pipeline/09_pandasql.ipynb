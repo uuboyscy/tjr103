{
 "cells": [
  {
   "cell_type": "code",
   "execution_count": 1,
   "id": "aa0f651e",
   "metadata": {},
   "outputs": [
    {
     "data": {
      "text/plain": [
       "{'__name__': '__main__',\n",
       " '__doc__': 'Automatically created module for IPython interactive environment',\n",
       " '__package__': None,\n",
       " '__loader__': None,\n",
       " '__spec__': None,\n",
       " '__builtin__': <module 'builtins' (built-in)>,\n",
       " '__builtins__': <module 'builtins' (built-in)>,\n",
       " '_ih': ['', 'globals()'],\n",
       " '_oh': {},\n",
       " '_dh': [PosixPath('/Users/uuboy.scy/side-project/tibame/tjr103/data_pipeline')],\n",
       " 'In': ['', 'globals()'],\n",
       " 'Out': {},\n",
       " 'get_ipython': <bound method InteractiveShell.get_ipython of <ipykernel.zmqshell.ZMQInteractiveShell object at 0x10a00c380>>,\n",
       " 'exit': <IPython.core.autocall.ZMQExitAutocall at 0x10a3ede80>,\n",
       " 'quit': <IPython.core.autocall.ZMQExitAutocall at 0x10a3ede80>,\n",
       " 'open': <function _io.open(file, mode='r', buffering=-1, encoding=None, errors=None, newline=None, closefd=True, opener=None)>,\n",
       " '_': '',\n",
       " '__': '',\n",
       " '___': '',\n",
       " '__vsc_ipynb_file__': '/Users/uuboy.scy/side-project/tibame/tjr103/data_pipeline/09_pandasql.ipynb',\n",
       " '_i': '',\n",
       " '_ii': '',\n",
       " '_iii': '',\n",
       " '_i1': 'globals()'}"
      ]
     },
     "execution_count": 1,
     "metadata": {},
     "output_type": "execute_result"
    }
   ],
   "source": [
    "globals()"
   ]
  },
  {
   "cell_type": "code",
   "execution_count": 2,
   "id": "417de8be",
   "metadata": {},
   "outputs": [],
   "source": [
    "a = 123"
   ]
  },
  {
   "cell_type": "code",
   "execution_count": 3,
   "id": "35eee5b6",
   "metadata": {},
   "outputs": [
    {
     "data": {
      "text/plain": [
       "{'__name__': '__main__',\n",
       " '__doc__': 'Automatically created module for IPython interactive environment',\n",
       " '__package__': None,\n",
       " '__loader__': None,\n",
       " '__spec__': None,\n",
       " '__builtin__': <module 'builtins' (built-in)>,\n",
       " '__builtins__': <module 'builtins' (built-in)>,\n",
       " '_ih': ['', 'globals()', 'a = 123', 'globals()'],\n",
       " '_oh': {1: {...}},\n",
       " '_dh': [PosixPath('/Users/uuboy.scy/side-project/tibame/tjr103/data_pipeline')],\n",
       " 'In': ['', 'globals()', 'a = 123', 'globals()'],\n",
       " 'Out': {1: {...}},\n",
       " 'get_ipython': <bound method InteractiveShell.get_ipython of <ipykernel.zmqshell.ZMQInteractiveShell object at 0x10a00c380>>,\n",
       " 'exit': <IPython.core.autocall.ZMQExitAutocall at 0x10a3ede80>,\n",
       " 'quit': <IPython.core.autocall.ZMQExitAutocall at 0x10a3ede80>,\n",
       " 'open': <function _io.open(file, mode='r', buffering=-1, encoding=None, errors=None, newline=None, closefd=True, opener=None)>,\n",
       " '_': {...},\n",
       " '__': '',\n",
       " '___': '',\n",
       " '__vsc_ipynb_file__': '/Users/uuboy.scy/side-project/tibame/tjr103/data_pipeline/09_pandasql.ipynb',\n",
       " '_i': 'a = 123',\n",
       " '_ii': 'globals()',\n",
       " '_iii': '',\n",
       " '_i1': 'globals()',\n",
       " '_1': {...},\n",
       " '_i2': 'a = 123',\n",
       " 'a': 123,\n",
       " '_i3': 'globals()'}"
      ]
     },
     "execution_count": 3,
     "metadata": {},
     "output_type": "execute_result"
    }
   ],
   "source": [
    "globals()"
   ]
  },
  {
   "cell_type": "code",
   "execution_count": 4,
   "id": "fa506352",
   "metadata": {},
   "outputs": [
    {
     "data": {
      "text/plain": [
       "123"
      ]
     },
     "execution_count": 4,
     "metadata": {},
     "output_type": "execute_result"
    }
   ],
   "source": [
    "globals()[\"a\"]"
   ]
  },
  {
   "cell_type": "code",
   "execution_count": 5,
   "id": "a971976c",
   "metadata": {},
   "outputs": [
    {
     "data": {
      "text/plain": [
       "{'__name__': '__main__',\n",
       " '__doc__': 'Automatically created module for IPython interactive environment',\n",
       " '__package__': None,\n",
       " '__loader__': None,\n",
       " '__spec__': None,\n",
       " '__builtin__': <module 'builtins' (built-in)>,\n",
       " '__builtins__': <module 'builtins' (built-in)>,\n",
       " '_ih': ['',\n",
       "  'globals()',\n",
       "  'a = 123',\n",
       "  'globals()',\n",
       "  'globals()[\"a\"]',\n",
       "  'locals()'],\n",
       " '_oh': {1: {...}, 3: {...}, 4: 123},\n",
       " '_dh': [PosixPath('/Users/uuboy.scy/side-project/tibame/tjr103/data_pipeline')],\n",
       " 'In': ['', 'globals()', 'a = 123', 'globals()', 'globals()[\"a\"]', 'locals()'],\n",
       " 'Out': {1: {...}, 3: {...}, 4: 123},\n",
       " 'get_ipython': <bound method InteractiveShell.get_ipython of <ipykernel.zmqshell.ZMQInteractiveShell object at 0x10a00c380>>,\n",
       " 'exit': <IPython.core.autocall.ZMQExitAutocall at 0x10a3ede80>,\n",
       " 'quit': <IPython.core.autocall.ZMQExitAutocall at 0x10a3ede80>,\n",
       " 'open': <function _io.open(file, mode='r', buffering=-1, encoding=None, errors=None, newline=None, closefd=True, opener=None)>,\n",
       " '_': 123,\n",
       " '__': {...},\n",
       " '___': {...},\n",
       " '__vsc_ipynb_file__': '/Users/uuboy.scy/side-project/tibame/tjr103/data_pipeline/09_pandasql.ipynb',\n",
       " '_i': 'globals()[\"a\"]',\n",
       " '_ii': 'globals()',\n",
       " '_iii': 'a = 123',\n",
       " '_i1': 'globals()',\n",
       " '_1': {...},\n",
       " '_i2': 'a = 123',\n",
       " 'a': 123,\n",
       " '_i3': 'globals()',\n",
       " '_3': {...},\n",
       " '_i4': 'globals()[\"a\"]',\n",
       " '_4': 123,\n",
       " '_i5': 'locals()'}"
      ]
     },
     "execution_count": 5,
     "metadata": {},
     "output_type": "execute_result"
    }
   ],
   "source": [
    "locals()"
   ]
  },
  {
   "cell_type": "code",
   "execution_count": 8,
   "id": "32862240",
   "metadata": {},
   "outputs": [
    {
     "data": {
      "text/html": [
       "<div>\n",
       "<style scoped>\n",
       "    .dataframe tbody tr th:only-of-type {\n",
       "        vertical-align: middle;\n",
       "    }\n",
       "\n",
       "    .dataframe tbody tr th {\n",
       "        vertical-align: top;\n",
       "    }\n",
       "\n",
       "    .dataframe thead th {\n",
       "        text-align: right;\n",
       "    }\n",
       "</style>\n",
       "<table border=\"1\" class=\"dataframe\">\n",
       "  <thead>\n",
       "    <tr style=\"text-align: right;\">\n",
       "      <th></th>\n",
       "      <th>article</th>\n",
       "      <th>author</th>\n",
       "      <th>price</th>\n",
       "    </tr>\n",
       "  </thead>\n",
       "  <tbody>\n",
       "    <tr>\n",
       "      <th>0</th>\n",
       "      <td>0001</td>\n",
       "      <td>B</td>\n",
       "      <td>3.99</td>\n",
       "    </tr>\n",
       "    <tr>\n",
       "      <th>1</th>\n",
       "      <td>0002</td>\n",
       "      <td>A</td>\n",
       "      <td>10.99</td>\n",
       "    </tr>\n",
       "    <tr>\n",
       "      <th>2</th>\n",
       "      <td>0003</td>\n",
       "      <td>C</td>\n",
       "      <td>1.69</td>\n",
       "    </tr>\n",
       "    <tr>\n",
       "      <th>3</th>\n",
       "      <td>0004</td>\n",
       "      <td>B</td>\n",
       "      <td>19.95</td>\n",
       "    </tr>\n",
       "    <tr>\n",
       "      <th>4</th>\n",
       "      <td>0005</td>\n",
       "      <td>A</td>\n",
       "      <td>6.96</td>\n",
       "    </tr>\n",
       "  </tbody>\n",
       "</table>\n",
       "</div>"
      ],
      "text/plain": [
       "  article author  price\n",
       "0    0001      B   3.99\n",
       "1    0002      A  10.99\n",
       "2    0003      C   1.69\n",
       "3    0004      B  19.95\n",
       "4    0005      A   6.96"
      ]
     },
     "execution_count": 8,
     "metadata": {},
     "output_type": "execute_result"
    }
   ],
   "source": [
    "import pandas as pd\n",
    "from pandasql import sqldf\n",
    "\n",
    "columns = [\"article\", \"author\", \"price\"]\n",
    "data = [\n",
    "    [\"0001\", \"B\", 3.99],\n",
    "    [\"0002\", \"A\", 10.99],\n",
    "    [\"0003\", \"C\", 1.69],\n",
    "    [\"0004\", \"B\", 19.95],\n",
    "    [\"0005\", \"A\", 6.96],\n",
    "]\n",
    "prticle_price_df = pd.DataFrame(data=data, columns=columns)\n",
    "prticle_price_df"
   ]
  },
  {
   "cell_type": "code",
   "execution_count": 9,
   "id": "bf4543f3",
   "metadata": {},
   "outputs": [
    {
     "data": {
      "text/html": [
       "<div>\n",
       "<style scoped>\n",
       "    .dataframe tbody tr th:only-of-type {\n",
       "        vertical-align: middle;\n",
       "    }\n",
       "\n",
       "    .dataframe tbody tr th {\n",
       "        vertical-align: top;\n",
       "    }\n",
       "\n",
       "    .dataframe thead th {\n",
       "        text-align: right;\n",
       "    }\n",
       "</style>\n",
       "<table border=\"1\" class=\"dataframe\">\n",
       "  <thead>\n",
       "    <tr style=\"text-align: right;\">\n",
       "      <th></th>\n",
       "      <th>article</th>\n",
       "      <th>author</th>\n",
       "      <th>price</th>\n",
       "    </tr>\n",
       "  </thead>\n",
       "  <tbody>\n",
       "    <tr>\n",
       "      <th>0</th>\n",
       "      <td>0002</td>\n",
       "      <td>A</td>\n",
       "      <td>10.99</td>\n",
       "    </tr>\n",
       "    <tr>\n",
       "      <th>1</th>\n",
       "      <td>0004</td>\n",
       "      <td>B</td>\n",
       "      <td>19.95</td>\n",
       "    </tr>\n",
       "    <tr>\n",
       "      <th>2</th>\n",
       "      <td>0003</td>\n",
       "      <td>C</td>\n",
       "      <td>1.69</td>\n",
       "    </tr>\n",
       "  </tbody>\n",
       "</table>\n",
       "</div>"
      ],
      "text/plain": [
       "  article author  price\n",
       "0    0002      A  10.99\n",
       "1    0004      B  19.95\n",
       "2    0003      C   1.69"
      ]
     },
     "execution_count": 9,
     "metadata": {},
     "output_type": "execute_result"
    }
   ],
   "source": [
    "sql = \"\"\"\n",
    "with tmp_prticle_price_df as (\n",
    "    select\n",
    "        *,\n",
    "        ROW_NUMBER() OVER (PARTITION BY author ORDER BY price DESC) as ROW_ID\n",
    "    from prticle_price_df\n",
    ")\n",
    "select\n",
    "    article,\n",
    "    author,\n",
    "    price\n",
    "from tmp_prticle_price_df\n",
    "where ROW_ID = 1\n",
    "\"\"\"\n",
    "sqldf(\n",
    "    sql,\n",
    ")"
   ]
  },
  {
   "cell_type": "code",
   "execution_count": null,
   "id": "249a8962",
   "metadata": {},
   "outputs": [],
   "source": []
  }
 ],
 "metadata": {
  "kernelspec": {
   "display_name": "data-pipeline-gof872M9-py3.12",
   "language": "python",
   "name": "python3"
  },
  "language_info": {
   "codemirror_mode": {
    "name": "ipython",
    "version": 3
   },
   "file_extension": ".py",
   "mimetype": "text/x-python",
   "name": "python",
   "nbconvert_exporter": "python",
   "pygments_lexer": "ipython3",
   "version": "3.12.4"
  }
 },
 "nbformat": 4,
 "nbformat_minor": 5
}
